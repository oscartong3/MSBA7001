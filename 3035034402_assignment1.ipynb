{
 "cells": [
  {
   "cell_type": "markdown",
   "metadata": {},
   "source": [
    "#Name: Tong Sai Kit\n",
    "#Uid: 3035034402"
   ]
  },
  {
   "cell_type": "markdown",
   "metadata": {},
   "source": [
    "#Problem 1 answer"
   ]
  },
  {
   "cell_type": "code",
   "execution_count": 22,
   "metadata": {},
   "outputs": [
    {
     "name": "stdout",
     "output_type": "stream",
     "text": [
      "* * * * \n",
      " * * *\n",
      "* * * * \n",
      " * * *\n",
      "* * * * \n"
     ]
    }
   ],
   "source": [
    "for i in range(5):\n",
    "    if i%2 == 0:\n",
    "        for j in range(4):\n",
    "            print(\"*\",'',end='')\n",
    "    else:\n",
    "        for j in range(3):\n",
    "            print(\"\",\"*\",end='')\n",
    "    print('')"
   ]
  },
  {
   "cell_type": "markdown",
   "metadata": {},
   "source": [
    "#Problem 2 answer"
   ]
  },
  {
   "cell_type": "code",
   "execution_count": 72,
   "metadata": {},
   "outputs": [
    {
     "name": "stdout",
     "output_type": "stream",
     "text": [
      "Enter your letter: b\n",
      "Enter rotation: a\n",
      "invalid input!\n",
      "Enter rotation: 44\n",
      "u\n"
     ]
    }
   ],
   "source": [
    "def rotate_letter(x,y):\n",
    "    if ord(x) <91:\n",
    "        if ord(x)+y >90:\n",
    "            z = chr((ord(x)+y)%90+65)\n",
    "        else:\n",
    "            z = chr((ord(x)+y))\n",
    "    elif ord(x) <123:\n",
    "        if ord(x)+y >122:\n",
    "            z = chr((ord(x)+y)%122+97)\n",
    "        else:\n",
    "            z = chr((ord(x)+y))\n",
    "    return z\n",
    "\n",
    "while True:\n",
    "    x = input('Enter your letter: ')\n",
    "    if (ord(x)>=65 and ord(x)<=90) or (ord(x)>=97 and ord(x)<=122):\n",
    "        break\n",
    "    else:\n",
    "        print('invalid input!')\n",
    "        continue\n",
    "while True:   \n",
    "    y = input('Enter rotation: ')\n",
    "    try:\n",
    "        y = int(y)\n",
    "        break\n",
    "    except:\n",
    "        print('invalid input!')\n",
    "\n",
    "\n",
    "letter = rotate_letter(x,y)\n",
    "print(letter)"
   ]
  },
  {
   "cell_type": "markdown",
   "metadata": {},
   "source": [
    "#problem 3 answer"
   ]
  },
  {
   "cell_type": "code",
   "execution_count": 119,
   "metadata": {},
   "outputs": [
    {
     "name": "stdout",
     "output_type": "stream",
     "text": [
      "Enter your number one by one (to break please enter \"done\"):3\n",
      "Enter your number one by one (to break please enter \"done\"):13\n",
      "Enter your number one by one (to break please enter \"done\"):5\n",
      "Enter your number one by one (to break please enter \"done\"):9\n",
      "Enter your number one by one (to break please enter \"done\"):100\n",
      "Enter your number one by one (to break please enter \"done\"):32\n",
      "Enter your number one by one (to break please enter \"done\"):34\n",
      "Enter your number one by one (to break please enter \"done\"):5\n",
      "Enter your number one by one (to break please enter \"done\"):done\n",
      "original list: [3.0, 13.0, 5.0, 9.0, 100.0, 32.0, 34.0, 5.0]\n",
      "sorted list: [3.0, 5.0, 5.0, 9.0, 13.0, 32.0, 34.0, 100.0]\n"
     ]
    }
   ],
   "source": [
    "old_list = []\n",
    "x = 0\n",
    "while True:\n",
    "    enter = input('Enter your number one by one (to break please enter \"done\"):')\n",
    "    if enter == 'done':\n",
    "        break\n",
    "    else:\n",
    "        try:\n",
    "            old_list.append(float(enter))\n",
    "            x += 1\n",
    "        except:\n",
    "            print('invalid input!')\n",
    "print(\"original list:\",old_list)\n",
    "new_list=[]\n",
    "for j in range(x):\n",
    "    smallest = old_list[0]\n",
    "    for i in range(x-j):\n",
    "        if old_list[i]<=smallest:\n",
    "            smallest=old_list[i]\n",
    "            a = i\n",
    "        else: continue\n",
    "    new_list.append(smallest)\n",
    "    del old_list[a]\n",
    "print(\"sorted list:\",new_list)\n"
   ]
  },
  {
   "cell_type": "markdown",
   "metadata": {},
   "source": [
    "#problem 4 answer"
   ]
  },
  {
   "cell_type": "code",
   "execution_count": 129,
   "metadata": {},
   "outputs": [
    {
     "name": "stdout",
     "output_type": "stream",
     "text": [
      "input your first word: abcde\n",
      "input your second word: efrefr\n",
      "sorry, no mutations\n"
     ]
    }
   ],
   "source": [
    "def mutations(x,y):\n",
    "    count1 = dict()\n",
    "    count2 = dict()\n",
    "    for w1 in x:\n",
    "        if w1 not in count1:\n",
    "            count1[w1] = 1\n",
    "        else:\n",
    "            count1[w1] += 1\n",
    "    for w2 in y:\n",
    "        if w2 not in count2:\n",
    "            count2[w2] = 1\n",
    "        else:\n",
    "            count2[w2] += 1\n",
    "    if count1 == count2:\n",
    "        print('word1 can be mutated to word2')\n",
    "    else:\n",
    "        print('sorry, no mutations')\n",
    "    \n",
    "word1 = input('input your first word: ')\n",
    "word2 = input('input your second word: ')\n",
    "\n",
    "mutations(word1,word2)"
   ]
  },
  {
   "cell_type": "code",
   "execution_count": null,
   "metadata": {},
   "outputs": [],
   "source": []
  }
 ],
 "metadata": {
  "kernelspec": {
   "display_name": "Python 3",
   "language": "python",
   "name": "python3"
  },
  "language_info": {
   "codemirror_mode": {
    "name": "ipython",
    "version": 3
   },
   "file_extension": ".py",
   "mimetype": "text/x-python",
   "name": "python",
   "nbconvert_exporter": "python",
   "pygments_lexer": "ipython3",
   "version": "3.6.5"
  }
 },
 "nbformat": 4,
 "nbformat_minor": 2
}
